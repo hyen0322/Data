{
  "cells": [
    {
      "cell_type": "markdown",
      "metadata": {
        "id": "view-in-github",
        "colab_type": "text"
      },
      "source": [
        "<a href=\"https://colab.research.google.com/github/hyen0322/Data/blob/main/Data%20Anlysis_1.ipynb\" target=\"_parent\"><img src=\"https://colab.research.google.com/assets/colab-badge.svg\" alt=\"Open In Colab\"/></a>"
      ]
    },
    {
      "cell_type": "markdown",
      "source": [
        "# Data Anlysis_1"
      ],
      "metadata": {
        "id": "98gNpcmiv_yC"
      }
    },
    {
      "cell_type": "code",
      "source": [
        "import pandas as pd\n",
        "\n",
        "file_path = \"202501.xlsx\"\n",
        "df = pd.read_excel(file_path, sheet_name='202501')"
      ],
      "metadata": {
        "id": "5k5k6ApLwAPX"
      },
      "execution_count": null,
      "outputs": []
    },
    {
      "cell_type": "code",
      "source": [
        "# 금속 농도 열과 측정시간 열만 선택\n",
        "\n",
        "metal_columns = [col for col in df.columns if '(ng/m3)' in col]\n",
        "df_metal = df[['Pump-Begin'] + metal_columns].copy()\n",
        "\n",
        "print(df.head())"
      ],
      "metadata": {
        "id": "ehJWG1w7wSV3",
        "outputId": "ac24d4e5-f2a7-41ee-b943-1a6461d02660",
        "colab": {
          "base_uri": "https://localhost:8080/"
        }
      },
      "execution_count": null,
      "outputs": [
        {
          "output_type": "stream",
          "name": "stdout",
          "text": [
            "           Pump-Begin            Pump-End       MassResetTime  \\\n",
            "0 2025-01-10 10:53:43 2025-01-10 12:00:00 2025-01-10 12:00:00   \n",
            "1 2025-01-10 12:00:00 2025-01-10 13:00:00 2025-01-10 13:00:00   \n",
            "2 2025-01-10 13:00:00 2025-01-10 14:00:00 2025-01-10 14:00:00   \n",
            "3 2025-01-10 14:00:01 2025-01-10 15:00:00 2025-01-10 15:00:00   \n",
            "4 2025-01-10 15:00:00 2025-01-10 16:00:00 2025-01-10 16:00:00   \n",
            "\n",
            "   Number-of-Split  Analysis-Id              Alarms           ElemError  \\\n",
            "0                0          NaN  0x0004000000000000  0x4000000000000000   \n",
            "1                0       2917.0  0x0000000000000000  0x0000000000000000   \n",
            "2                0       2918.0  0x0000000000000000  0x0000000000000000   \n",
            "3                0       2919.0  0x0000000000000000  0x0000000000000000   \n",
            "4                0       2920.0  0x0000000000000000  0x0000000000000000   \n",
            "\n",
            "   Mass(ug)  Conc(ug/m3)  BP_Mass(ugC)  ...  Cd(ng/m3)  In(ng/m3)  Sn(ng/m3)  \\\n",
            "0     -22.1       -48.57           NaN  ...        NaN        NaN        NaN   \n",
            "1     -19.7       -19.84           NaN  ...     316.97      57.61      30.11   \n",
            "2      10.1        10.20           NaN  ...     313.15      69.71      47.75   \n",
            "3       6.9         6.90           NaN  ...     292.73      54.34       6.92   \n",
            "4       6.2         6.26           NaN  ...     347.83      55.92      23.70   \n",
            "\n",
            "   Sb(ng/m3)  Te(ng/m3)  Cs(ng/m3)  Ba(ng/m3)  Ce(ng/m3)  Pb(ng/m3)  Bi(ng/m3)  \n",
            "0        NaN        NaN        NaN        NaN        NaN        NaN        NaN  \n",
            "1      29.99       5.94      -1.80        0.0      -0.43      16.83       6.62  \n",
            "2     -11.84      28.56      -1.89        0.0      -0.96      13.57      11.04  \n",
            "3      28.12      47.94      -0.71        0.0      -0.13      16.47       8.02  \n",
            "4      24.88      23.03      -1.84        0.0      -0.71       2.43       7.10  \n",
            "\n",
            "[5 rows x 46 columns]\n"
          ]
        }
      ]
    },
    {
      "cell_type": "code",
      "source": [
        "# 날짜 변환 및 날짜 열 생성\n",
        "\n",
        "df_metal['Pump-Begin'] = pd.to_datetime(df_metal['Pump-Begin'])\n",
        "df_metal['Date'] = df_metal['Pump-Begin'].dt.date\n",
        "\n",
        "print(df.head())"
      ],
      "metadata": {
        "id": "XqfMKpehwlm4",
        "outputId": "df1f058a-9f13-43d9-b357-4bc0738a4fae",
        "colab": {
          "base_uri": "https://localhost:8080/"
        }
      },
      "execution_count": null,
      "outputs": [
        {
          "output_type": "stream",
          "name": "stdout",
          "text": [
            "           Pump-Begin            Pump-End       MassResetTime  \\\n",
            "0 2025-01-10 10:53:43 2025-01-10 12:00:00 2025-01-10 12:00:00   \n",
            "1 2025-01-10 12:00:00 2025-01-10 13:00:00 2025-01-10 13:00:00   \n",
            "2 2025-01-10 13:00:00 2025-01-10 14:00:00 2025-01-10 14:00:00   \n",
            "3 2025-01-10 14:00:01 2025-01-10 15:00:00 2025-01-10 15:00:00   \n",
            "4 2025-01-10 15:00:00 2025-01-10 16:00:00 2025-01-10 16:00:00   \n",
            "\n",
            "   Number-of-Split  Analysis-Id              Alarms           ElemError  \\\n",
            "0                0          NaN  0x0004000000000000  0x4000000000000000   \n",
            "1                0       2917.0  0x0000000000000000  0x0000000000000000   \n",
            "2                0       2918.0  0x0000000000000000  0x0000000000000000   \n",
            "3                0       2919.0  0x0000000000000000  0x0000000000000000   \n",
            "4                0       2920.0  0x0000000000000000  0x0000000000000000   \n",
            "\n",
            "   Mass(ug)  Conc(ug/m3)  BP_Mass(ugC)  ...  Cd(ng/m3)  In(ng/m3)  Sn(ng/m3)  \\\n",
            "0     -22.1       -48.57           NaN  ...        NaN        NaN        NaN   \n",
            "1     -19.7       -19.84           NaN  ...     316.97      57.61      30.11   \n",
            "2      10.1        10.20           NaN  ...     313.15      69.71      47.75   \n",
            "3       6.9         6.90           NaN  ...     292.73      54.34       6.92   \n",
            "4       6.2         6.26           NaN  ...     347.83      55.92      23.70   \n",
            "\n",
            "   Sb(ng/m3)  Te(ng/m3)  Cs(ng/m3)  Ba(ng/m3)  Ce(ng/m3)  Pb(ng/m3)  Bi(ng/m3)  \n",
            "0        NaN        NaN        NaN        NaN        NaN        NaN        NaN  \n",
            "1      29.99       5.94      -1.80        0.0      -0.43      16.83       6.62  \n",
            "2     -11.84      28.56      -1.89        0.0      -0.96      13.57      11.04  \n",
            "3      28.12      47.94      -0.71        0.0      -0.13      16.47       8.02  \n",
            "4      24.88      23.03      -1.84        0.0      -0.71       2.43       7.10  \n",
            "\n",
            "[5 rows x 46 columns]\n"
          ]
        }
      ]
    },
    {
      "cell_type": "code",
      "source": [
        "# 날짜 필터링\n",
        "\n",
        "start_date = pd.to_datetime(\"2025-01-10\")\n",
        "end_date = pd.to_datetime(\"2025-01-31\") + pd.Timedelta(days=1)\n",
        "df_filtered = df_metal[(df_metal['Pump-Begin'] >= start_date) & (df_metal['Pump-Begin'] < end_date)]\n",
        "\n",
        "print(df.head())"
      ],
      "metadata": {
        "id": "qv8bD406wy8M",
        "outputId": "830e666f-2ea9-4991-b717-b87fb259720b",
        "colab": {
          "base_uri": "https://localhost:8080/"
        }
      },
      "execution_count": null,
      "outputs": [
        {
          "output_type": "stream",
          "name": "stdout",
          "text": [
            "           Pump-Begin            Pump-End       MassResetTime  \\\n",
            "0 2025-01-10 10:53:43 2025-01-10 12:00:00 2025-01-10 12:00:00   \n",
            "1 2025-01-10 12:00:00 2025-01-10 13:00:00 2025-01-10 13:00:00   \n",
            "2 2025-01-10 13:00:00 2025-01-10 14:00:00 2025-01-10 14:00:00   \n",
            "3 2025-01-10 14:00:01 2025-01-10 15:00:00 2025-01-10 15:00:00   \n",
            "4 2025-01-10 15:00:00 2025-01-10 16:00:00 2025-01-10 16:00:00   \n",
            "\n",
            "   Number-of-Split  Analysis-Id              Alarms           ElemError  \\\n",
            "0                0          NaN  0x0004000000000000  0x4000000000000000   \n",
            "1                0       2917.0  0x0000000000000000  0x0000000000000000   \n",
            "2                0       2918.0  0x0000000000000000  0x0000000000000000   \n",
            "3                0       2919.0  0x0000000000000000  0x0000000000000000   \n",
            "4                0       2920.0  0x0000000000000000  0x0000000000000000   \n",
            "\n",
            "   Mass(ug)  Conc(ug/m3)  BP_Mass(ugC)  ...  Cd(ng/m3)  In(ng/m3)  Sn(ng/m3)  \\\n",
            "0     -22.1       -48.57           NaN  ...        NaN        NaN        NaN   \n",
            "1     -19.7       -19.84           NaN  ...     316.97      57.61      30.11   \n",
            "2      10.1        10.20           NaN  ...     313.15      69.71      47.75   \n",
            "3       6.9         6.90           NaN  ...     292.73      54.34       6.92   \n",
            "4       6.2         6.26           NaN  ...     347.83      55.92      23.70   \n",
            "\n",
            "   Sb(ng/m3)  Te(ng/m3)  Cs(ng/m3)  Ba(ng/m3)  Ce(ng/m3)  Pb(ng/m3)  Bi(ng/m3)  \n",
            "0        NaN        NaN        NaN        NaN        NaN        NaN        NaN  \n",
            "1      29.99       5.94      -1.80        0.0      -0.43      16.83       6.62  \n",
            "2     -11.84      28.56      -1.89        0.0      -0.96      13.57      11.04  \n",
            "3      28.12      47.94      -0.71        0.0      -0.13      16.47       8.02  \n",
            "4      24.88      23.03      -1.84        0.0      -0.71       2.43       7.10  \n",
            "\n",
            "[5 rows x 46 columns]\n"
          ]
        }
      ]
    },
    {
      "cell_type": "code",
      "source": [
        "# 이상치 제거: 음수, 0, NaN → 모두 결측 처리\n",
        "\n",
        "for col in metal_columns:\n",
        "    df_filtered[col] = df_filtered[col].apply(lambda x: x if pd.notna(x) and x > 0 else pd.NA)\n",
        "\n",
        "print(df.head())"
      ],
      "metadata": {
        "id": "VmrBSR8UzNQp",
        "outputId": "94e83963-af1c-4146-be77-0852303599f7",
        "colab": {
          "base_uri": "https://localhost:8080/"
        }
      },
      "execution_count": null,
      "outputs": [
        {
          "output_type": "stream",
          "name": "stdout",
          "text": [
            "           Pump-Begin            Pump-End       MassResetTime  \\\n",
            "0 2025-01-10 10:53:43 2025-01-10 12:00:00 2025-01-10 12:00:00   \n",
            "1 2025-01-10 12:00:00 2025-01-10 13:00:00 2025-01-10 13:00:00   \n",
            "2 2025-01-10 13:00:00 2025-01-10 14:00:00 2025-01-10 14:00:00   \n",
            "3 2025-01-10 14:00:01 2025-01-10 15:00:00 2025-01-10 15:00:00   \n",
            "4 2025-01-10 15:00:00 2025-01-10 16:00:00 2025-01-10 16:00:00   \n",
            "\n",
            "   Number-of-Split  Analysis-Id              Alarms           ElemError  \\\n",
            "0                0          NaN  0x0004000000000000  0x4000000000000000   \n",
            "1                0       2917.0  0x0000000000000000  0x0000000000000000   \n",
            "2                0       2918.0  0x0000000000000000  0x0000000000000000   \n",
            "3                0       2919.0  0x0000000000000000  0x0000000000000000   \n",
            "4                0       2920.0  0x0000000000000000  0x0000000000000000   \n",
            "\n",
            "   Mass(ug)  Conc(ug/m3)  BP_Mass(ugC)  ...  Cd(ng/m3)  In(ng/m3)  Sn(ng/m3)  \\\n",
            "0     -22.1       -48.57           NaN  ...        NaN        NaN        NaN   \n",
            "1     -19.7       -19.84           NaN  ...     316.97      57.61      30.11   \n",
            "2      10.1        10.20           NaN  ...     313.15      69.71      47.75   \n",
            "3       6.9         6.90           NaN  ...     292.73      54.34       6.92   \n",
            "4       6.2         6.26           NaN  ...     347.83      55.92      23.70   \n",
            "\n",
            "   Sb(ng/m3)  Te(ng/m3)  Cs(ng/m3)  Ba(ng/m3)  Ce(ng/m3)  Pb(ng/m3)  Bi(ng/m3)  \n",
            "0        NaN        NaN        NaN        NaN        NaN        NaN        NaN  \n",
            "1      29.99       5.94      -1.80        0.0      -0.43      16.83       6.62  \n",
            "2     -11.84      28.56      -1.89        0.0      -0.96      13.57      11.04  \n",
            "3      28.12      47.94      -0.71        0.0      -0.13      16.47       8.02  \n",
            "4      24.88      23.03      -1.84        0.0      -0.71       2.43       7.10  \n",
            "\n",
            "[5 rows x 46 columns]\n"
          ]
        }
      ]
    },
    {
      "cell_type": "code",
      "source": [
        "# 일별 평균 금속 농도 계산\n",
        "\n",
        "df_daily_avg = df_filtered.groupby('Date')[metal_columns].mean().reset_index()\n",
        "\n",
        "print(df.head())"
      ],
      "metadata": {
        "id": "TIv5h_GGw9xt",
        "outputId": "d4f73fd5-72ac-4e33-bb67-3a935980e2c1",
        "colab": {
          "base_uri": "https://localhost:8080/"
        }
      },
      "execution_count": null,
      "outputs": [
        {
          "output_type": "stream",
          "name": "stdout",
          "text": [
            "           Pump-Begin            Pump-End       MassResetTime  \\\n",
            "0 2025-01-10 10:53:43 2025-01-10 12:00:00 2025-01-10 12:00:00   \n",
            "1 2025-01-10 12:00:00 2025-01-10 13:00:00 2025-01-10 13:00:00   \n",
            "2 2025-01-10 13:00:00 2025-01-10 14:00:00 2025-01-10 14:00:00   \n",
            "3 2025-01-10 14:00:01 2025-01-10 15:00:00 2025-01-10 15:00:00   \n",
            "4 2025-01-10 15:00:00 2025-01-10 16:00:00 2025-01-10 16:00:00   \n",
            "\n",
            "   Number-of-Split  Analysis-Id              Alarms           ElemError  \\\n",
            "0                0          NaN  0x0004000000000000  0x4000000000000000   \n",
            "1                0       2917.0  0x0000000000000000  0x0000000000000000   \n",
            "2                0       2918.0  0x0000000000000000  0x0000000000000000   \n",
            "3                0       2919.0  0x0000000000000000  0x0000000000000000   \n",
            "4                0       2920.0  0x0000000000000000  0x0000000000000000   \n",
            "\n",
            "   Mass(ug)  Conc(ug/m3)  BP_Mass(ugC)  ...  Cd(ng/m3)  In(ng/m3)  Sn(ng/m3)  \\\n",
            "0     -22.1       -48.57           NaN  ...        NaN        NaN        NaN   \n",
            "1     -19.7       -19.84           NaN  ...     316.97      57.61      30.11   \n",
            "2      10.1        10.20           NaN  ...     313.15      69.71      47.75   \n",
            "3       6.9         6.90           NaN  ...     292.73      54.34       6.92   \n",
            "4       6.2         6.26           NaN  ...     347.83      55.92      23.70   \n",
            "\n",
            "   Sb(ng/m3)  Te(ng/m3)  Cs(ng/m3)  Ba(ng/m3)  Ce(ng/m3)  Pb(ng/m3)  Bi(ng/m3)  \n",
            "0        NaN        NaN        NaN        NaN        NaN        NaN        NaN  \n",
            "1      29.99       5.94      -1.80        0.0      -0.43      16.83       6.62  \n",
            "2     -11.84      28.56      -1.89        0.0      -0.96      13.57      11.04  \n",
            "3      28.12      47.94      -0.71        0.0      -0.13      16.47       8.02  \n",
            "4      24.88      23.03      -1.84        0.0      -0.71       2.43       7.10  \n",
            "\n",
            "[5 rows x 46 columns]\n"
          ]
        }
      ]
    },
    {
      "cell_type": "code",
      "source": [
        "# 결과 출력 (상위 5개)\n",
        "\n",
        "print(df_daily_avg.head())"
      ],
      "metadata": {
        "id": "r3Sfm1MAxKpt",
        "outputId": "5d070112-2e4f-4b52-8abb-b23f388ada50",
        "colab": {
          "base_uri": "https://localhost:8080/"
        }
      },
      "execution_count": null,
      "outputs": [
        {
          "output_type": "stream",
          "name": "stdout",
          "text": [
            "         Date   Al(ng/m3)    Si(ng/m3)     S(ng/m3)    K(ng/m3)   Ca(ng/m3)  \\\n",
            "0  2025-01-10  538.973333   760.786667  2219.214167  264.145833  129.110833   \n",
            "1  2025-01-11  452.053333   747.914583  3660.784583   233.24125  112.280417   \n",
            "2  2025-01-12  462.824583   817.724583   3892.74375     266.025      126.24   \n",
            "3  2025-01-13   542.69375  1117.748333  4561.004167   281.33375  135.499583   \n",
            "4  2025-01-14  727.442083  2117.083333    5536.2075    382.1625   205.36125   \n",
            "\n",
            "  Ti(ng/m3)  V(ng/m3) Cr(ng/m3)  Mn(ng/m3)  ...   Cd(ng/m3)  In(ng/m3)  \\\n",
            "0  0.496364  4.210833  6.108333   9.438333  ...  321.519167  56.905833   \n",
            "1      0.49  4.315417  4.809167     8.6925  ...   288.98125   47.02125   \n",
            "2    0.7825  4.202917  4.750417   8.782083  ...   285.72375    46.0625   \n",
            "3  0.898182  3.425833   4.17625   9.195417  ...  262.289583   39.47625   \n",
            "4  3.494167     3.905   4.11625  10.024167  ...  244.577917  37.953333   \n",
            "\n",
            "   Sn(ng/m3)  Sb(ng/m3)  Te(ng/m3) Cs(ng/m3) Ba(ng/m3) Ce(ng/m3) Pb(ng/m3)  \\\n",
            "0  21.274167  26.342727  21.240833      0.28       7.5      1.11  6.893333   \n",
            "1  19.047826  21.811429  24.964091      0.26      7.76  4.802143  6.027727   \n",
            "2     14.386  20.767647  21.729524  2.535714      5.44     3.652    7.1375   \n",
            "3  18.452857       29.6  21.699333  0.753333      7.51     1.995  8.438333   \n",
            "4  19.962105  16.426471  18.331667  2.980588       NaN     5.555  7.849167   \n",
            "\n",
            "  Bi(ng/m3)  \n",
            "0  6.364167  \n",
            "1  5.128333  \n",
            "2  5.177917  \n",
            "3  4.284167  \n",
            "4  3.679583  \n",
            "\n",
            "[5 rows x 36 columns]\n"
          ]
        }
      ]
    }
  ],
  "metadata": {
    "colab": {
      "name": "Colab 시작하기",
      "provenance": [],
      "include_colab_link": true
    },
    "kernelspec": {
      "display_name": "Python 3",
      "name": "python3"
    }
  },
  "nbformat": 4,
  "nbformat_minor": 0
}