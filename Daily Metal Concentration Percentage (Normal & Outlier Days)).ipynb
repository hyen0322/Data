{
  "nbformat": 4,
  "nbformat_minor": 0,
  "metadata": {
    "colab": {
      "provenance": [],
      "authorship_tag": "ABX9TyP0mCuWwImBNUzh5eAOnvGG"
    },
    "kernelspec": {
      "name": "python3",
      "display_name": "Python 3"
    },
    "language_info": {
      "name": "python"
    }
  },
  "cells": [
    {
      "cell_type": "code",
      "execution_count": 1,
      "metadata": {
        "id": "tcODuWwKYsdz",
        "colab": {
          "base_uri": "https://localhost:8080/",
          "height": 77
        },
        "outputId": "9f129a6a-94c3-4de4-eca3-4a14a0e643ae"
      },
      "outputs": [
        {
          "output_type": "display_data",
          "data": {
            "text/plain": [
              "<IPython.core.display.HTML object>"
            ],
            "text/html": [
              "\n",
              "     <input type=\"file\" id=\"files-ef35b57c-cc67-4dc5-a3aa-b6b564a09582\" name=\"files[]\" multiple disabled\n",
              "        style=\"border:none\" />\n",
              "     <output id=\"result-ef35b57c-cc67-4dc5-a3aa-b6b564a09582\">\n",
              "      Upload widget is only available when the cell has been executed in the\n",
              "      current browser session. Please rerun this cell to enable.\n",
              "      </output>\n",
              "      <script>// Copyright 2017 Google LLC\n",
              "//\n",
              "// Licensed under the Apache License, Version 2.0 (the \"License\");\n",
              "// you may not use this file except in compliance with the License.\n",
              "// You may obtain a copy of the License at\n",
              "//\n",
              "//      http://www.apache.org/licenses/LICENSE-2.0\n",
              "//\n",
              "// Unless required by applicable law or agreed to in writing, software\n",
              "// distributed under the License is distributed on an \"AS IS\" BASIS,\n",
              "// WITHOUT WARRANTIES OR CONDITIONS OF ANY KIND, either express or implied.\n",
              "// See the License for the specific language governing permissions and\n",
              "// limitations under the License.\n",
              "\n",
              "/**\n",
              " * @fileoverview Helpers for google.colab Python module.\n",
              " */\n",
              "(function(scope) {\n",
              "function span(text, styleAttributes = {}) {\n",
              "  const element = document.createElement('span');\n",
              "  element.textContent = text;\n",
              "  for (const key of Object.keys(styleAttributes)) {\n",
              "    element.style[key] = styleAttributes[key];\n",
              "  }\n",
              "  return element;\n",
              "}\n",
              "\n",
              "// Max number of bytes which will be uploaded at a time.\n",
              "const MAX_PAYLOAD_SIZE = 100 * 1024;\n",
              "\n",
              "function _uploadFiles(inputId, outputId) {\n",
              "  const steps = uploadFilesStep(inputId, outputId);\n",
              "  const outputElement = document.getElementById(outputId);\n",
              "  // Cache steps on the outputElement to make it available for the next call\n",
              "  // to uploadFilesContinue from Python.\n",
              "  outputElement.steps = steps;\n",
              "\n",
              "  return _uploadFilesContinue(outputId);\n",
              "}\n",
              "\n",
              "// This is roughly an async generator (not supported in the browser yet),\n",
              "// where there are multiple asynchronous steps and the Python side is going\n",
              "// to poll for completion of each step.\n",
              "// This uses a Promise to block the python side on completion of each step,\n",
              "// then passes the result of the previous step as the input to the next step.\n",
              "function _uploadFilesContinue(outputId) {\n",
              "  const outputElement = document.getElementById(outputId);\n",
              "  const steps = outputElement.steps;\n",
              "\n",
              "  const next = steps.next(outputElement.lastPromiseValue);\n",
              "  return Promise.resolve(next.value.promise).then((value) => {\n",
              "    // Cache the last promise value to make it available to the next\n",
              "    // step of the generator.\n",
              "    outputElement.lastPromiseValue = value;\n",
              "    return next.value.response;\n",
              "  });\n",
              "}\n",
              "\n",
              "/**\n",
              " * Generator function which is called between each async step of the upload\n",
              " * process.\n",
              " * @param {string} inputId Element ID of the input file picker element.\n",
              " * @param {string} outputId Element ID of the output display.\n",
              " * @return {!Iterable<!Object>} Iterable of next steps.\n",
              " */\n",
              "function* uploadFilesStep(inputId, outputId) {\n",
              "  const inputElement = document.getElementById(inputId);\n",
              "  inputElement.disabled = false;\n",
              "\n",
              "  const outputElement = document.getElementById(outputId);\n",
              "  outputElement.innerHTML = '';\n",
              "\n",
              "  const pickedPromise = new Promise((resolve) => {\n",
              "    inputElement.addEventListener('change', (e) => {\n",
              "      resolve(e.target.files);\n",
              "    });\n",
              "  });\n",
              "\n",
              "  const cancel = document.createElement('button');\n",
              "  inputElement.parentElement.appendChild(cancel);\n",
              "  cancel.textContent = 'Cancel upload';\n",
              "  const cancelPromise = new Promise((resolve) => {\n",
              "    cancel.onclick = () => {\n",
              "      resolve(null);\n",
              "    };\n",
              "  });\n",
              "\n",
              "  // Wait for the user to pick the files.\n",
              "  const files = yield {\n",
              "    promise: Promise.race([pickedPromise, cancelPromise]),\n",
              "    response: {\n",
              "      action: 'starting',\n",
              "    }\n",
              "  };\n",
              "\n",
              "  cancel.remove();\n",
              "\n",
              "  // Disable the input element since further picks are not allowed.\n",
              "  inputElement.disabled = true;\n",
              "\n",
              "  if (!files) {\n",
              "    return {\n",
              "      response: {\n",
              "        action: 'complete',\n",
              "      }\n",
              "    };\n",
              "  }\n",
              "\n",
              "  for (const file of files) {\n",
              "    const li = document.createElement('li');\n",
              "    li.append(span(file.name, {fontWeight: 'bold'}));\n",
              "    li.append(span(\n",
              "        `(${file.type || 'n/a'}) - ${file.size} bytes, ` +\n",
              "        `last modified: ${\n",
              "            file.lastModifiedDate ? file.lastModifiedDate.toLocaleDateString() :\n",
              "                                    'n/a'} - `));\n",
              "    const percent = span('0% done');\n",
              "    li.appendChild(percent);\n",
              "\n",
              "    outputElement.appendChild(li);\n",
              "\n",
              "    const fileDataPromise = new Promise((resolve) => {\n",
              "      const reader = new FileReader();\n",
              "      reader.onload = (e) => {\n",
              "        resolve(e.target.result);\n",
              "      };\n",
              "      reader.readAsArrayBuffer(file);\n",
              "    });\n",
              "    // Wait for the data to be ready.\n",
              "    let fileData = yield {\n",
              "      promise: fileDataPromise,\n",
              "      response: {\n",
              "        action: 'continue',\n",
              "      }\n",
              "    };\n",
              "\n",
              "    // Use a chunked sending to avoid message size limits. See b/62115660.\n",
              "    let position = 0;\n",
              "    do {\n",
              "      const length = Math.min(fileData.byteLength - position, MAX_PAYLOAD_SIZE);\n",
              "      const chunk = new Uint8Array(fileData, position, length);\n",
              "      position += length;\n",
              "\n",
              "      const base64 = btoa(String.fromCharCode.apply(null, chunk));\n",
              "      yield {\n",
              "        response: {\n",
              "          action: 'append',\n",
              "          file: file.name,\n",
              "          data: base64,\n",
              "        },\n",
              "      };\n",
              "\n",
              "      let percentDone = fileData.byteLength === 0 ?\n",
              "          100 :\n",
              "          Math.round((position / fileData.byteLength) * 100);\n",
              "      percent.textContent = `${percentDone}% done`;\n",
              "\n",
              "    } while (position < fileData.byteLength);\n",
              "  }\n",
              "\n",
              "  // All done.\n",
              "  yield {\n",
              "    response: {\n",
              "      action: 'complete',\n",
              "    }\n",
              "  };\n",
              "}\n",
              "\n",
              "scope.google = scope.google || {};\n",
              "scope.google.colab = scope.google.colab || {};\n",
              "scope.google.colab._files = {\n",
              "  _uploadFiles,\n",
              "  _uploadFilesContinue,\n",
              "};\n",
              "})(self);\n",
              "</script> "
            ]
          },
          "metadata": {}
        },
        {
          "output_type": "stream",
          "name": "stdout",
          "text": [
            "Saving 202501.xlsx to 202501.xlsx\n"
          ]
        }
      ],
      "source": [
        "import pandas as pd\n",
        "import matplotlib.pyplot as plt\n",
        "import matplotlib.patches as patches\n",
        "\n",
        "# 데이터 업로드\n",
        "from google.colab import files\n",
        "uploaded = files.upload()"
      ]
    },
    {
      "cell_type": "code",
      "source": [
        "# 데이터 불러오기\n",
        "df = pd.read_excel('202501.xlsx')"
      ],
      "metadata": {
        "id": "0PxA87Q2ZnLw"
      },
      "execution_count": 2,
      "outputs": []
    },
    {
      "cell_type": "code",
      "source": [
        "# 금속 농도 열 추출 (단위가 ng/m3인 열)\n",
        "metal_columns = df.columns[df.columns.str.endswith('(ng/m3)')]\n",
        "\n",
        "# 날짜 추출\n",
        "df['Date'] = pd.to_datetime(df['Pump-Begin']).dt.date"
      ],
      "metadata": {
        "id": "Kx98jiV_xftb"
      },
      "execution_count": 3,
      "outputs": []
    },
    {
      "cell_type": "code",
      "source": [
        "# 이상치 제거 (NaN, 음수, 0은 결측 처리)\n",
        "for col in metal_columns:\n",
        "    df[col] = df[col].apply(lambda x: x if pd.notna(x) and x > 0 else pd.NA)"
      ],
      "metadata": {
        "id": "a4AbfMNgCSMn"
      },
      "execution_count": 8,
      "outputs": []
    },
    {
      "cell_type": "code",
      "source": [
        "# 날짜별 금속 농도 합계 계산\n",
        "daily_metal_sum = df.groupby('Date')[metal_columns].sum()\n",
        "\n",
        "print(daily_metal_sum.head())"
      ],
      "metadata": {
        "id": "zijRy4ujHL2E",
        "colab": {
          "base_uri": "https://localhost:8080/"
        },
        "outputId": "f0f274c9-694d-4766-b3f1-71c6b1c3b56c"
      },
      "execution_count": 9,
      "outputs": [
        {
          "output_type": "stream",
          "name": "stdout",
          "text": [
            "           Al(ng/m3) Si(ng/m3)   S(ng/m3) K(ng/m3) Ca(ng/m3) Ti(ng/m3)  \\\n",
            "Date                                                                     \n",
            "2025-01-10   6467.68   9129.44   26630.57  3169.75   1549.33      5.46   \n",
            "2025-01-11  10849.28  17949.95   87858.83  5597.79   2694.73      6.86   \n",
            "2025-01-12  11107.79  19625.39   93425.85   6384.6   3029.76     12.52   \n",
            "2025-01-13  13024.65  26825.96   109464.1  6752.01   3251.99     19.76   \n",
            "2025-01-14  17458.61   50810.0  132868.98   9171.9   4928.67     83.86   \n",
            "\n",
            "           V(ng/m3) Cr(ng/m3) Mn(ng/m3) Fe(ng/m3)  ... Cd(ng/m3) In(ng/m3)  \\\n",
            "Date                                               ...                       \n",
            "2025-01-10    50.53      73.3    113.26   1195.49  ...   3858.23    682.87   \n",
            "2025-01-11   103.57    115.42    208.62   2878.73  ...   6935.55   1128.51   \n",
            "2025-01-12   100.87    114.01    210.77   2643.23  ...   6857.37    1105.5   \n",
            "2025-01-13    82.22    100.23    220.69    3030.9  ...   6294.95    947.43   \n",
            "2025-01-14    93.72     98.79    240.58   4209.26  ...   5869.87    910.88   \n",
            "\n",
            "           Sn(ng/m3) Sb(ng/m3) Te(ng/m3) Cs(ng/m3) Ba(ng/m3) Ce(ng/m3)  \\\n",
            "Date                                                                     \n",
            "2025-01-10    255.29    289.77    254.89      0.28       7.5      5.55   \n",
            "2025-01-11     438.1    458.04    549.21      0.52      7.76     67.23   \n",
            "2025-01-12    287.72    353.05    456.32     17.75      5.44     54.78   \n",
            "2025-01-13    387.51     503.2    325.49      6.78      7.51      39.9   \n",
            "2025-01-14    379.28    279.25    329.97     50.67         0    133.32   \n",
            "\n",
            "           Pb(ng/m3) Bi(ng/m3)  \n",
            "Date                            \n",
            "2025-01-10     82.72     76.37  \n",
            "2025-01-11    132.61    123.08  \n",
            "2025-01-12     171.3    124.27  \n",
            "2025-01-13    202.52    102.82  \n",
            "2025-01-14    188.38     88.31  \n",
            "\n",
            "[5 rows x 35 columns]\n"
          ]
        }
      ]
    },
    {
      "cell_type": "code",
      "source": [
        "# 날짜별 전체 금속 농도 총합 계산 (이상치 기준용)\n",
        "total_sum = daily_metal_sum.sum(axis=1)\n",
        "\n",
        "print(total_sum.head())"
      ],
      "metadata": {
        "id": "8m2ndMl3ok9Z",
        "outputId": "f97b0e97-e087-4aa4-9ec7-b9cb8b7e762e",
        "colab": {
          "base_uri": "https://localhost:8080/"
        }
      },
      "execution_count": 5,
      "outputs": [
        {
          "output_type": "stream",
          "name": "stdout",
          "text": [
            "Date\n",
            "2025-01-10     60980.76\n",
            "2025-01-11    149442.19\n",
            "2025-01-12    157006.71\n",
            "2025-01-13    180696.59\n",
            "2025-01-14    236255.37\n",
            "dtype: float64\n"
          ]
        }
      ]
    },
    {
      "cell_type": "code",
      "source": [
        "# 이상치 판정: 전체 금속 농도 총합 기준 (평균보다 1.5배 이상인 경우)\n",
        "threshold_total = total_sum.mean() + 1.5 * total_sum.std()\n",
        "outlier_dates = total_sum[total_sum > threshold_total].index.tolist()\n",
        "\n",
        "print(outlier_dates)"
      ],
      "metadata": {
        "id": "2haUcWN1odOY",
        "outputId": "8b4ae654-1a6f-45ed-c444-9840f66ee62e",
        "colab": {
          "base_uri": "https://localhost:8080/"
        }
      },
      "execution_count": 10,
      "outputs": [
        {
          "output_type": "stream",
          "name": "stdout",
          "text": [
            "[datetime.date(2025, 1, 21), datetime.date(2025, 1, 23)]\n"
          ]
        }
      ]
    },
    {
      "cell_type": "code",
      "source": [
        "# 일별 금속 농도 비율 (%) 계산 (그래프용)\n",
        "combined_days_sorted = daily_metal_sum.sort_index() # 날짜 정렬\n",
        "combined_percentage = combined_days_sorted.div(combined_days_sorted.sum(axis=1), axis=0) * 100\n",
        "\n",
        "# 결과 출력\n",
        "print(combined_percentage.head())"
      ],
      "metadata": {
        "id": "LEiNrpvnoP37",
        "outputId": "7cc5bd04-318c-4700-fac8-c2d8ad4585c3",
        "colab": {
          "base_uri": "https://localhost:8080/"
        }
      },
      "execution_count": 11,
      "outputs": [
        {
          "output_type": "stream",
          "name": "stdout",
          "text": [
            "            Al(ng/m3)  Si(ng/m3)   S(ng/m3)  K(ng/m3) Ca(ng/m3) Ti(ng/m3)  \\\n",
            "Date                                                                        \n",
            "2025-01-10  10.596738  14.957803  43.631902  5.193363  2.538444  0.008946   \n",
            "2025-01-11    7.25365  12.001041  58.740968   3.74259  1.801652  0.004586   \n",
            "2025-01-12   7.063964  12.480705  59.413877  4.060266  1.926766  0.007962   \n",
            "2025-01-13    7.19791  14.825032  60.493971  3.731414  1.797172   0.01092   \n",
            "2025-01-14   7.383876  21.489383  56.195088  3.879128  2.084512  0.035467   \n",
            "\n",
            "            V(ng/m3) Cr(ng/m3) Mn(ng/m3) Fe(ng/m3)  ... Cd(ng/m3) In(ng/m3)  \\\n",
            "Date                                                ...                       \n",
            "2025-01-10  0.082789  0.120096  0.185567  1.958708  ...  6.321379  1.118824   \n",
            "2025-01-11  0.069245  0.077168   0.13948  1.924671  ...  4.636995  0.754503   \n",
            "2025-01-12  0.064148  0.072504  0.134039  1.680954  ...  4.360923  0.703039   \n",
            "2025-01-13  0.045438  0.055391  0.121962  1.674989  ...  3.478826  0.523585   \n",
            "2025-01-14  0.039638  0.041782   0.10175  1.780248  ...   2.48258  0.385244   \n",
            "\n",
            "           Sn(ng/m3) Sb(ng/m3) Te(ng/m3) Cs(ng/m3) Ba(ng/m3) Ce(ng/m3)  \\\n",
            "Date                                                                     \n",
            "2025-01-10  0.418271  0.474763  0.417615  0.000459  0.012288  0.009093   \n",
            "2025-01-11  0.292906  0.306238  0.367193  0.000348  0.005188  0.044949   \n",
            "2025-01-12  0.182975  0.224521  0.290195  0.011288   0.00346  0.034837   \n",
            "2025-01-13  0.214153  0.278087  0.179878  0.003747   0.00415   0.02205   \n",
            "2025-01-14  0.160411  0.118105  0.139556   0.02143       0.0  0.056386   \n",
            "\n",
            "           Pb(ng/m3) Bi(ng/m3)  \n",
            "Date                            \n",
            "2025-01-10   0.13553  0.125126  \n",
            "2025-01-11  0.088661  0.082289  \n",
            "2025-01-12  0.108938  0.079029  \n",
            "2025-01-13   0.11192  0.056822  \n",
            "2025-01-14  0.079673  0.037349  \n",
            "\n",
            "[5 rows x 35 columns]\n"
          ]
        }
      ]
    },
    {
      "cell_type": "code",
      "source": [
        "# 날짜 리스트\n",
        "dates = combined_percentage.index.tolist()\n",
        "\n",
        "# 그래프 생성\n",
        "fig, ax = plt.subplots(figsize=(8, 4))\n",
        "combined_percentage.plot(kind='bar',\n",
        "                         stacked=True,\n",
        "                         ax=ax,\n",
        "                         width=0.4,\n",
        "                         colormap='tab20')\n",
        "\n",
        "# 이상치 날짜 표시\n",
        "for i, date in enumerate(dates):\n",
        "    if date in outlier_dates:\n",
        "        rect = patches.Rectangle((i - 0.35, -2), # 박스 시작 위치\n",
        "                                 0.7, # 박스 가로 길이\n",
        "                                 104, # 박스 높이\n",
        "                                 linewidth=1.5, # 선 굵기\n",
        "                                 edgecolor='red',\n",
        "                                 facecolor='none')\n",
        "        ax.add_patch(rect) # 도형 표시\n",
        "\n",
        "# 그래프 기본 설정\n",
        "plt.title(\"Daily Metal Concentration Percentage (Normal & Outlier Days)\", fontsize=7)\n",
        "plt.xlabel(\"Date\", fontsize=6)\n",
        "plt.ylabel(\"Percentage (%)\", fontsize=6)\n",
        "plt.xticks(rotation=55, fontsize=5.5)\n",
        "plt.yticks(fontsize=5.5)\n",
        "plt.grid(axis='y', linestyle='--', alpha=0.5)\n",
        "\n",
        "# 범례 설정\n",
        "plt.legend(loc='center left',\n",
        "           bbox_to_anchor=(1.0, 0.5),\n",
        "           fontsize=5,\n",
        "           title='Metal',\n",
        "           title_fontsize=6)\n",
        "\n",
        "# 레이아웃 자동 조절\n",
        "plt.tight_layout()\n",
        "\n",
        "# 결과 출력\n",
        "plt.show()"
      ],
      "metadata": {
        "colab": {
          "base_uri": "https://localhost:8080/",
          "height": 417
        },
        "id": "bFjnSrC0KLQC",
        "outputId": "f7188d7e-061e-4661-f5db-5de1c9fe5632"
      },
      "execution_count": 12,
      "outputs": [
        {
          "output_type": "display_data",
          "data": {
            "text/plain": [
              "<Figure size 800x400 with 1 Axes>"
            ],
            "image/png": "[encoded data removed]"
          },
          "metadata": {}
        }
      ]
    }
  ]
}