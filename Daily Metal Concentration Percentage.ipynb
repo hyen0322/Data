{
  "nbformat": 4,
  "nbformat_minor": 0,
  "metadata": {
    "colab": {
      "provenance": [],
      "authorship_tag": "ABX9TyN7px286Eot+vPKcEYgVAse"
    },
    "kernelspec": {
      "name": "python3",
      "display_name": "Python 3"
    },
    "language_info": {
      "name": "python"
    }
  },
  "cells": [
    {
      "cell_type": "code",
      "execution_count": 7,
      "metadata": {
        "id": "tcODuWwKYsdz",
        "colab": {
          "base_uri": "https://localhost:8080/",
          "height": 78
        },
        "outputId": "7275b978-278d-43fa-ae74-f1989d0db41b"
      },
      "outputs": [
        {
          "output_type": "display_data",
          "data": {
            "text/plain": [
              "<IPython.core.display.HTML object>"
            ],
            "text/html": [
              "\n",
              "     <input type=\"file\" id=\"files-f7e3e7c6-47c3-4f17-86cd-26bdce956799\" name=\"files[]\" multiple disabled\n",
              "        style=\"border:none\" />\n",
              "     <output id=\"result-f7e3e7c6-47c3-4f17-86cd-26bdce956799\">\n",
              "      Upload widget is only available when the cell has been executed in the\n",
              "      current browser session. Please rerun this cell to enable.\n",
              "      </output>\n",
              "      <script>// Copyright 2017 Google LLC\n",
              "//\n",
              "// Licensed under the Apache License, Version 2.0 (the \"License\");\n",
              "// you may not use this file except in compliance with the License.\n",
              "// You may obtain a copy of the License at\n",
              "//\n",
              "//      http://www.apache.org/licenses/LICENSE-2.0\n",
              "//\n",
              "// Unless required by applicable law or agreed to in writing, software\n",
              "// distributed under the License is distributed on an \"AS IS\" BASIS,\n",
              "// WITHOUT WARRANTIES OR CONDITIONS OF ANY KIND, either express or implied.\n",
              "// See the License for the specific language governing permissions and\n",
              "// limitations under the License.\n",
              "\n",
              "/**\n",
              " * @fileoverview Helpers for google.colab Python module.\n",
              " */\n",
              "(function(scope) {\n",
              "function span(text, styleAttributes = {}) {\n",
              "  const element = document.createElement('span');\n",
              "  element.textContent = text;\n",
              "  for (const key of Object.keys(styleAttributes)) {\n",
              "    element.style[key] = styleAttributes[key];\n",
              "  }\n",
              "  return element;\n",
              "}\n",
              "\n",
              "// Max number of bytes which will be uploaded at a time.\n",
              "const MAX_PAYLOAD_SIZE = 100 * 1024;\n",
              "\n",
              "function _uploadFiles(inputId, outputId) {\n",
              "  const steps = uploadFilesStep(inputId, outputId);\n",
              "  const outputElement = document.getElementById(outputId);\n",
              "  // Cache steps on the outputElement to make it available for the next call\n",
              "  // to uploadFilesContinue from Python.\n",
              "  outputElement.steps = steps;\n",
              "\n",
              "  return _uploadFilesContinue(outputId);\n",
              "}\n",
              "\n",
              "// This is roughly an async generator (not supported in the browser yet),\n",
              "// where there are multiple asynchronous steps and the Python side is going\n",
              "// to poll for completion of each step.\n",
              "// This uses a Promise to block the python side on completion of each step,\n",
              "// then passes the result of the previous step as the input to the next step.\n",
              "function _uploadFilesContinue(outputId) {\n",
              "  const outputElement = document.getElementById(outputId);\n",
              "  const steps = outputElement.steps;\n",
              "\n",
              "  const next = steps.next(outputElement.lastPromiseValue);\n",
              "  return Promise.resolve(next.value.promise).then((value) => {\n",
              "    // Cache the last promise value to make it available to the next\n",
              "    // step of the generator.\n",
              "    outputElement.lastPromiseValue = value;\n",
              "    return next.value.response;\n",
              "  });\n",
              "}\n",
              "\n",
              "/**\n",
              " * Generator function which is called between each async step of the upload\n",
              " * process.\n",
              " * @param {string} inputId Element ID of the input file picker element.\n",
              " * @param {string} outputId Element ID of the output display.\n",
              " * @return {!Iterable<!Object>} Iterable of next steps.\n",
              " */\n",
              "function* uploadFilesStep(inputId, outputId) {\n",
              "  const inputElement = document.getElementById(inputId);\n",
              "  inputElement.disabled = false;\n",
              "\n",
              "  const outputElement = document.getElementById(outputId);\n",
              "  outputElement.innerHTML = '';\n",
              "\n",
              "  const pickedPromise = new Promise((resolve) => {\n",
              "    inputElement.addEventListener('change', (e) => {\n",
              "      resolve(e.target.files);\n",
              "    });\n",
              "  });\n",
              "\n",
              "  const cancel = document.createElement('button');\n",
              "  inputElement.parentElement.appendChild(cancel);\n",
              "  cancel.textContent = 'Cancel upload';\n",
              "  const cancelPromise = new Promise((resolve) => {\n",
              "    cancel.onclick = () => {\n",
              "      resolve(null);\n",
              "    };\n",
              "  });\n",
              "\n",
              "  // Wait for the user to pick the files.\n",
              "  const files = yield {\n",
              "    promise: Promise.race([pickedPromise, cancelPromise]),\n",
              "    response: {\n",
              "      action: 'starting',\n",
              "    }\n",
              "  };\n",
              "\n",
              "  cancel.remove();\n",
              "\n",
              "  // Disable the input element since further picks are not allowed.\n",
              "  inputElement.disabled = true;\n",
              "\n",
              "  if (!files) {\n",
              "    return {\n",
              "      response: {\n",
              "        action: 'complete',\n",
              "      }\n",
              "    };\n",
              "  }\n",
              "\n",
              "  for (const file of files) {\n",
              "    const li = document.createElement('li');\n",
              "    li.append(span(file.name, {fontWeight: 'bold'}));\n",
              "    li.append(span(\n",
              "        `(${file.type || 'n/a'}) - ${file.size} bytes, ` +\n",
              "        `last modified: ${\n",
              "            file.lastModifiedDate ? file.lastModifiedDate.toLocaleDateString() :\n",
              "                                    'n/a'} - `));\n",
              "    const percent = span('0% done');\n",
              "    li.appendChild(percent);\n",
              "\n",
              "    outputElement.appendChild(li);\n",
              "\n",
              "    const fileDataPromise = new Promise((resolve) => {\n",
              "      const reader = new FileReader();\n",
              "      reader.onload = (e) => {\n",
              "        resolve(e.target.result);\n",
              "      };\n",
              "      reader.readAsArrayBuffer(file);\n",
              "    });\n",
              "    // Wait for the data to be ready.\n",
              "    let fileData = yield {\n",
              "      promise: fileDataPromise,\n",
              "      response: {\n",
              "        action: 'continue',\n",
              "      }\n",
              "    };\n",
              "\n",
              "    // Use a chunked sending to avoid message size limits. See b/62115660.\n",
              "    let position = 0;\n",
              "    do {\n",
              "      const length = Math.min(fileData.byteLength - position, MAX_PAYLOAD_SIZE);\n",
              "      const chunk = new Uint8Array(fileData, position, length);\n",
              "      position += length;\n",
              "\n",
              "      const base64 = btoa(String.fromCharCode.apply(null, chunk));\n",
              "      yield {\n",
              "        response: {\n",
              "          action: 'append',\n",
              "          file: file.name,\n",
              "          data: base64,\n",
              "        },\n",
              "      };\n",
              "\n",
              "      let percentDone = fileData.byteLength === 0 ?\n",
              "          100 :\n",
              "          Math.round((position / fileData.byteLength) * 100);\n",
              "      percent.textContent = `${percentDone}% done`;\n",
              "\n",
              "    } while (position < fileData.byteLength);\n",
              "  }\n",
              "\n",
              "  // All done.\n",
              "  yield {\n",
              "    response: {\n",
              "      action: 'complete',\n",
              "    }\n",
              "  };\n",
              "}\n",
              "\n",
              "scope.google = scope.google || {};\n",
              "scope.google.colab = scope.google.colab || {};\n",
              "scope.google.colab._files = {\n",
              "  _uploadFiles,\n",
              "  _uploadFilesContinue,\n",
              "};\n",
              "})(self);\n",
              "</script> "
            ]
          },
          "metadata": {}
        },
        {
          "output_type": "stream",
          "name": "stdout",
          "text": [
            "Saving 202501.xlsx to 202501 (1).xlsx\n"
          ]
        }
      ],
      "source": [
        "import pandas as pd\n",
        "import matplotlib.pyplot as plt\n",
        "import matplotlib.patches as patches\n",
        "\n",
        "from google.colab import files\n",
        "uploaded = files.upload()"
      ]
    },
    {
      "cell_type": "code",
      "source": [
        "import pandas as pd\n",
        "\n",
        "# 데이터 불러오기\n",
        "df = pd.read_excel('202501.xlsx')"
      ],
      "metadata": {
        "id": "0PxA87Q2ZnLw"
      },
      "execution_count": 48,
      "outputs": []
    },
    {
      "cell_type": "code",
      "source": [
        "# 금속 농도 열 추출 (단위가 ng/m3인 열)\n",
        "metal_columns = df.columns[df.columns.str.endswith('(ng/m3)')]\n",
        "\n",
        "# 날짜 추출\n",
        "df['Date'] = pd.to_datetime(df['Pump-Begin']).dt.date"
      ],
      "metadata": {
        "id": "Kx98jiV_xftb"
      },
      "execution_count": 49,
      "outputs": []
    },
    {
      "cell_type": "code",
      "source": [
        "# 날짜별 금속 농도 합계\n",
        "daily_metal_sum = df.groupby('Date')[metal_columns].sum()\n",
        "total_sum = daily_metal_sum.sum(axis=1)"
      ],
      "metadata": {
        "id": "zijRy4ujHL2E"
      },
      "execution_count": 50,
      "outputs": []
    },
    {
      "cell_type": "code",
      "source": [
        "# 이상치 판정: 전체 금속 농도 총합 기준\n",
        "threshold_total = total_sum.mean() + 1.5 * total_sum.std()\n",
        "outlier_dates = total_sum[total_sum > threshold_total].index.tolist()"
      ],
      "metadata": {
        "id": "LRiItX6kHOI0"
      },
      "execution_count": 51,
      "outputs": []
    },
    {
      "cell_type": "code",
      "source": [
        "# 금속 농도 비율 (%)\n",
        "combined_days_sorted = daily_metal_sum.sort_index()\n",
        "combined_percentage = combined_days_sorted.div(combined_days_sorted.sum(axis=1), axis=0) * 100\n",
        "\n",
        "print(combined_percentage.head())"
      ],
      "metadata": {
        "colab": {
          "base_uri": "https://localhost:8080/"
        },
        "id": "by5Hd_D2xs2T",
        "outputId": "5d9e5e8a-3a85-48ac-b598-2b2308995bd1"
      },
      "execution_count": 52,
      "outputs": [
        {
          "output_type": "stream",
          "name": "stdout",
          "text": [
            "            Al(ng/m3)  Si(ng/m3)   S(ng/m3)  K(ng/m3)  Ca(ng/m3)  Ti(ng/m3)  \\\n",
            "Date                                                                          \n",
            "2025-01-10  10.606099  14.971017  43.670446  5.197951   2.540687   0.008921   \n",
            "2025-01-11   7.259851  12.011300  58.791182  3.745790   1.803192   0.001887   \n",
            "2025-01-12   7.074723  12.499714  59.504368  4.066450   1.929701   0.005471   \n",
            "2025-01-13   7.208022  14.845858  60.578952  3.736656   1.799696   0.010681   \n",
            "2025-01-14   7.389720  21.506389  56.239560  3.882197   2.086162   0.035495   \n",
            "\n",
            "            V(ng/m3)  Cr(ng/m3)  Mn(ng/m3)  Fe(ng/m3)  ...  Cd(ng/m3)  \\\n",
            "Date                                                   ...              \n",
            "2025-01-10  0.082862   0.120202   0.185731   1.960438  ...   6.326963   \n",
            "2025-01-11  0.069304   0.077234   0.139599   1.926317  ...   4.640958   \n",
            "2025-01-12  0.064246   0.072615   0.134243   1.683514  ...   4.367565   \n",
            "2025-01-13  0.045502   0.055469   0.122133   1.677342  ...   3.483713   \n",
            "2025-01-14  0.039669   0.041815   0.101830   1.781657  ...   2.484545   \n",
            "\n",
            "            In(ng/m3)  Sn(ng/m3)  Sb(ng/m3)  Te(ng/m3)  Cs(ng/m3)  Ba(ng/m3)  \\\n",
            "Date                                                                           \n",
            "2025-01-10   1.119812   0.418640   0.455767   0.417984  -0.035290   0.012299   \n",
            "2025-01-11   0.755148   0.292862   0.294482   0.360481  -0.031035   0.005193   \n",
            "2025-01-12   0.704110   0.172222   0.153204   0.279771  -0.005643   0.003465   \n",
            "2025-01-13   0.524321   0.201171   0.223834   0.145321  -0.005114   0.004156   \n",
            "2025-01-14   0.385549   0.152750   0.107574   0.109809   0.018472   0.000000   \n",
            "\n",
            "            Ce(ng/m3)  Pb(ng/m3)  Bi(ng/m3)  \n",
            "Date                                         \n",
            "2025-01-10  -0.000312   0.135649   0.125236  \n",
            "2025-01-11   0.038082   0.087619   0.082360  \n",
            "2025-01-12   0.028871   0.109104   0.079149  \n",
            "2025-01-13   0.021511   0.112077   0.056902  \n",
            "2025-01-14   0.056430   0.079736   0.037379  \n",
            "\n",
            "[5 rows x 35 columns]\n"
          ]
        }
      ]
    },
    {
      "cell_type": "code",
      "source": [
        "# 그래프 생성\n",
        "fig, ax = plt.subplots(figsize=(8, 4))\n",
        "combined_percentage.plot(kind='bar',\n",
        "                         stacked=True,\n",
        "                         ax=ax,\n",
        "                         width=0.4,\n",
        "                         colormap='tab20')\n",
        "\n",
        "# 날짜 리스트\n",
        "dates = combined_percentage.index.tolist()\n",
        "\n",
        "# 이상치 날짜 빨간 박스 표시\n",
        "for i, date in enumerate(dates):\n",
        "    if date in outlier_dates:\n",
        "        rect = patches.Rectangle((i - 0.2, 0), 0.4, y_max,\n",
        "                                 linewidth=1.5,\n",
        "                                 edgecolor='red',\n",
        "                                 facecolor='none')\n",
        "        ax.add_patch(rect)\n",
        "\n",
        "# 그래프 기본 설정\n",
        "plt.title(\"Daily Metal Concentration Percentage (Normal & Outlier Days)\", fontsize=7)\n",
        "plt.xlabel(\"Date\", fontsize=6)\n",
        "plt.ylabel(\"Percentage (%)\", fontsize=6)\n",
        "plt.xticks(rotation=55, fontsize=5.0)\n",
        "plt.yticks(fontsize=5.5)\n",
        "plt.grid(axis='y', linestyle='--', alpha=0.5)\n",
        "\n",
        "# 범례 설정\n",
        "plt.legend(loc='center left',\n",
        "           bbox_to_anchor=(1.0, 0.5),\n",
        "           fontsize=4.5,\n",
        "           title='Metal',\n",
        "           title_fontsize=5.5)\n",
        "\n",
        "# 레이아웃 자동 조절\n",
        "plt.tight_layout()\n",
        "\n",
        "# 결과 출력\n",
        "plt.show()"
      ],
      "metadata": {
        "colab": {
          "base_uri": "https://localhost:8080/",
          "height": 407
        },
        "id": "bFjnSrC0KLQC",
        "outputId": "0c74e337-46b8-47bd-d0bb-828e31f2d0b2"
      },
      "execution_count": 53,
      "outputs": [
        {
          "output_type": "display_data",
          "data": {
            "text/plain": [
              "<Figure size 800x400 with 1 Axes>"
            ],
            "image/png": "[encoded data removed]"
          },
          "metadata": {}
        }
      ]
    }
  ]
}